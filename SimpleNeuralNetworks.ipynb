{
 "cells": [
  {
   "cell_type": "markdown",
   "metadata": {},
   "source": [
    "# We're going to play with very simple layer ANNs. Even with just one layer we'll be able to do some fun stuff!"
   ]
  },
  {
   "cell_type": "code",
   "execution_count": 2,
   "metadata": {},
   "outputs": [],
   "source": [
    "import numpy as np\n",
    "from matplotlib import pyplot"
   ]
  },
  {
   "cell_type": "markdown",
   "metadata": {},
   "source": [
    "## This is our activation function, just a simple sigmoidal curve called the logistic function"
   ]
  },
  {
   "cell_type": "code",
   "execution_count": 3,
   "metadata": {},
   "outputs": [],
   "source": [
    "def logistic_func(x):\n",
    "    return 1/(1+np.exp(-x))"
   ]
  },
  {
   "cell_type": "markdown",
   "metadata": {},
   "source": [
    "Let's take a look at the logistic function by plotting in in the range of -10 to 10 using this handy built-in numpy function *linspace*. This function takes the lower bound, the upper bound, and the number of values, and returns a *linearly spaced* vector including the lower and upper bounds. **Neat!**"
   ]
  },
  {
   "cell_type": "code",
   "execution_count": 4,
   "metadata": {},
   "outputs": [
    {
     "name": "stdout",
     "output_type": "stream",
     "text": [
      "[-10.          -8.94736842  -7.89473684  -6.84210526  -5.78947368\n",
      "  -4.73684211  -3.68421053  -2.63157895  -1.57894737  -0.52631579\n",
      "   0.52631579   1.57894737   2.63157895   3.68421053   4.73684211\n",
      "   5.78947368   6.84210526   7.89473684   8.94736842  10.        ]\n"
     ]
    }
   ],
   "source": [
    "x = np.linspace(-10, 10,20)\n",
    "print(x)"
   ]
  },
  {
   "cell_type": "code",
   "execution_count": 5,
   "metadata": {},
   "outputs": [
    {
     "data": {
      "image/png": "[encoded data removed]",
      "text/plain": [
       "<Figure size 432x288 with 1 Axes>"
      ]
     },
     "metadata": {
      "needs_background": "light"
     },
     "output_type": "display_data"
    }
   ],
   "source": [
    "#Now plot it!\n",
    "pyplot.plot(x, logistic_func(x))\n",
    "pyplot.xlabel(\"input\")\n",
    "pyplot.ylabel(\"output\")\n",
    "pyplot.show()"
   ]
  },
  {
   "cell_type": "markdown",
   "metadata": {},
   "source": [
    "## Let's try to make a simple network that generates the following truth table\n",
    "\n",
    "| Input 1 | Output |\n",
    "|---------|--------|\n",
    "| 0       | 0      |\n",
    "| 1       | 1      |"
   ]
  },
  {
   "cell_type": "code",
   "execution_count": 6,
   "metadata": {},
   "outputs": [
    {
     "name": "stdout",
     "output_type": "stream",
     "text": [
      "0.9933071490757153\n"
     ]
    }
   ],
   "source": [
    "# Since we're only using one value, our input\n",
    "# is a single value\n",
    "input_vector = np.array([1])\n",
    "input_weights = np.array([5])\n",
    "\n",
    "# because we're using numpy arrays, when we do multiplication\n",
    "# it will automatically perform it element-by-element\n",
    "input_x_weights = input_vector * input_weights\n",
    "neuron_sum = sum(input_x_weights)\n",
    "\n",
    "# Now apply our activation function to the \n",
    "# sum of the inputs*weights vector\n",
    "activation = logistic_func(neuron_sum)\n",
    "\n",
    "print(activation)"
   ]
  },
  {
   "cell_type": "code",
   "execution_count": 7,
   "metadata": {},
   "outputs": [
    {
     "name": "stdout",
     "output_type": "stream",
     "text": [
      "0.5\n"
     ]
    }
   ],
   "source": [
    "# Since we're only using one value, our input\n",
    "# is a single value\n",
    "input_vector = np.array([0])\n",
    "input_weights = np.array([5])\n",
    "\n",
    "# because we're using numpy arrays, when we do multiplication\n",
    "# it will automatically perform it element-by-element\n",
    "input_x_weights = input_vector * input_weights\n",
    "neuron_sum = sum(input_x_weights)\n",
    "activation = logistic_func(neuron_sum)\n",
    "\n",
    "print(activation)"
   ]
  },
  {
   "cell_type": "markdown",
   "metadata": {},
   "source": [
    "## Hmm, we're going to have a hard time multipling 0 by something to get a lower value...\n",
    "To fix this problem, we use something called a **bias node**. Basically, we give the neural network a constant value to use for situations exactly like this. This is typically set at 1, though -1 is also a common choice. "
   ]
  },
  {
   "cell_type": "code",
   "execution_count": 8,
   "metadata": {},
   "outputs": [
    {
     "name": "stdout",
     "output_type": "stream",
     "text": [
      "0.04742587317756678\n"
     ]
    }
   ],
   "source": [
    "# Now we're passing in a bias node with value set to 1\n",
    "# so we'll also have to give it's synapse a weight!\n",
    "input_vector = np.array([0, 1])\n",
    "\n",
    "# I just picked a few big values that will pull the \n",
    "# logistic function close to either 0 or 1 depending on\n",
    "# the value of the input. \n",
    "input_weights = np.array([6, -3])\n",
    "\n",
    "# because we're using numpy arrays, when we do multiplication\n",
    "# it will automatically perform it element-by-element\n",
    "input_x_weights = input_vector * input_weights\n",
    "neuron_sum = sum(input_x_weights)\n",
    "activation = logistic_func(neuron_sum)\n",
    "\n",
    "print(activation)"
   ]
  },
  {
   "cell_type": "markdown",
   "metadata": {},
   "source": [
    "## We can shorten this a lot using some nice numpy built in functions!\n",
    "Spend some time making sure you understand this bit of code, it's going to come back!"
   ]
  },
  {
   "cell_type": "code",
   "execution_count": 9,
   "metadata": {},
   "outputs": [
    {
     "name": "stdout",
     "output_type": "stream",
     "text": [
      "0.04742587317756678\n"
     ]
    }
   ],
   "source": [
    "input_vector = np.array([0, 1])\n",
    "input_weights = np.array([6, -3])\n",
    "\n",
    "# https://docs.scipy.org/doc/numpy/reference/generated/numpy.dot.html\n",
    "# numpy's dot function computes the inner product \n",
    "# e.g., [a,b].[c,d] = [a*c + b*d]\n",
    "activation = logistic_func(np.dot(input_vector, input_weights))\n",
    "print(activation)"
   ]
  },
  {
   "cell_type": "markdown",
   "metadata": {},
   "source": [
    "# 1. Try your hand at choosing weights for a network that can compute this function\n",
    "\n",
    "| Input 1 | Output |\n",
    "|---------|--------|\n",
    "| 0       | 1      |\n",
    "| 1       | 0      |"
   ]
  },
  {
   "cell_type": "code",
   "execution_count": null,
   "metadata": {},
   "outputs": [],
   "source": []
  },
  {
   "cell_type": "markdown",
   "metadata": {},
   "source": [
    "# 2. Let's make it a bit more complex and add a second input!\n",
    "\n",
    "| Input 1 | Input 2 | Output |\n",
    "|---------|---------|--------|\n",
    "| 0       | 0       | 0      |\n",
    "| 0       | 1       | 1      |\n",
    "| 1       | 0       | 1      |\n",
    "| 1       | 1       | 1      |\n"
   ]
  },
  {
   "cell_type": "code",
   "execution_count": null,
   "metadata": {},
   "outputs": [],
   "source": []
  },
  {
   "cell_type": "markdown",
   "metadata": {},
   "source": [
    "## You should make sure your weights handle all the possible binary inputs we can give this function -- like the following input vectors!"
   ]
  },
  {
   "cell_type": "code",
   "execution_count": 82,
   "metadata": {},
   "outputs": [],
   "source": [
    "input_vector = np.array([0, 0, 1])\n",
    "input_vector = np.array([0, 1, 1])\n",
    "input_vector = np.array([1, 0, 1])\n",
    "input_vector = np.array([1, 1, 1])\n"
   ]
  },
  {
   "cell_type": "markdown",
   "metadata": {},
   "source": [
    "## 3. What would you have to do if we wanted to have more than one output?\n",
    "Let's try to replicate the following truth table (i.e., mirror the bits)\n",
    "\n",
    "| Input 1 | Input 2 | Output 1 | Output 2 |\n",
    "|---------|---------|----------|----------|\n",
    "| 0       | 0       | 0        | 0        |\n",
    "| 0       | 1       | 1        | 0        |\n",
    "| 1       | 0       | 0        | 1        |\n",
    "| 1       | 1       | 1        | 1        |"
   ]
  },
  {
   "cell_type": "markdown",
   "metadata": {},
   "source": [
    "### NOTE: Because now each input node has more than one output node to connect to, we'll need more weights. \n",
    "\n",
    "#### We can store these weights as a matrix with 3 rows (one for each input plus the bias) and 2 columsn (one for each output). Thus, each value is a weight from the row's input node to the column's output node. \n",
    "\n"
   ]
  },
  {
   "cell_type": "code",
   "execution_count": 10,
   "metadata": {},
   "outputs": [
    {
     "name": "stdout",
     "output_type": "stream",
     "text": [
      "[0.881 0.881]\n"
     ]
    }
   ],
   "source": [
    "input_vector = np.array([1, 0, 1])\n",
    "\n",
    "#TODO: You'll have to change these weights! \n",
    "input_weights = np.array( [[1, 1],\n",
    "                           [1, 1],\n",
    "                           [1, 1]])\n",
    "\n",
    "\n",
    "# https://docs.scipy.org/doc/numpy/reference/generated/numpy.dot.html\n",
    "# we get to take advantage of more numpy fancyness here,\n",
    "# when np.dot is given a matrix, it performs matrix multiplication!\n",
    "activation = logistic_func(np.dot(input_vector, input_weights))\n",
    "print(np.round(activation, decimals=3))"
   ]
  },
  {
   "cell_type": "markdown",
   "metadata": {},
   "source": [
    "### You'll want to check all the possible combinations of 2-bit inputs again, like you did in Question 3. "
   ]
  },
  {
   "cell_type": "code",
   "execution_count": null,
   "metadata": {},
   "outputs": [],
   "source": []
  },
  {
   "cell_type": "markdown",
   "metadata": {},
   "source": [
    "# 4. If you're feeling brave, try your hand at this one.\n",
    "Hint: It's not as simple as it looks... You'll need more **layers** for this one!\n",
    "\n",
    "| Input 1 | Input 2 | Output |\n",
    "|---------|---------|--------|\n",
    "| 0       | 0       | 0      |\n",
    "| 0       | 1       | 1      |\n",
    "| 1       | 0       | 1      |\n",
    "| 1       | 1       | 0      |\n"
   ]
  },
  {
   "cell_type": "code",
   "execution_count": null,
   "metadata": {},
   "outputs": [],
   "source": []
  }
 ],
 "metadata": {
  "kernelspec": {
   "display_name": "Python 3",
   "language": "python",
   "name": "python3"
  },
  "language_info": {
   "codemirror_mode": {
    "name": "ipython",
    "version": 3
   },
   "file_extension": ".py",
   "mimetype": "text/x-python",
   "name": "python",
   "nbconvert_exporter": "python",
   "pygments_lexer": "ipython3",
   "version": "3.7.4"
  }
 },
 "nbformat": 4,
 "nbformat_minor": 2
}
